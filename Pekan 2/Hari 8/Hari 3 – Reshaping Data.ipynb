{
 "metadata": {
  "language_info": {
   "codemirror_mode": {
    "name": "ipython",
    "version": 3
   },
   "file_extension": ".py",
   "mimetype": "text/x-python",
   "name": "python",
   "nbconvert_exporter": "python",
   "pygments_lexer": "ipython3",
   "version": "3.9.5"
  },
  "orig_nbformat": 4,
  "kernelspec": {
   "name": "python3",
   "display_name": "Python 3.9.5 64-bit"
  },
  "interpreter": {
   "hash": "b839018028d7c5166b93bdc4222a30f5462b9cb20ffe1b3af6c70f0ea8ead087"
  }
 },
 "nbformat": 4,
 "nbformat_minor": 2,
 "cells": [
  {
   "source": [
    "# Hari 3 – Reshaping Data"
   ],
   "cell_type": "markdown",
   "metadata": {}
  },
  {
   "source": [
    "## Pivoting Data"
   ],
   "cell_type": "markdown",
   "metadata": {}
  },
  {
   "cell_type": "code",
   "execution_count": 1,
   "metadata": {},
   "outputs": [
    {
     "output_type": "stream",
     "name": "stdout",
     "text": [
      "   foo bar  baz zoo\n0  one   A    1   x\n1  one   B    2   y\n2  one   C    3   z\n3  two   A    4   q\n4  two   B    5   w\n5  two   C    6   t\n"
     ]
    }
   ],
   "source": [
    "import pandas as pd\n",
    "data = {\n",
    "    'foo' : ['one']*3 + ['two']*3,\n",
    "    'bar' : ['A', 'B', 'C', 'A', 'B', 'C'],\n",
    "    'baz' : [1, 2, 3, 4, 5, 6],\n",
    "    'zoo' : ['x', 'y', 'z', 'q', 'w', 't']\n",
    "}\n",
    "df = pd.DataFrame(data)\n",
    "print(df)"
   ]
  },
  {
   "cell_type": "code",
   "execution_count": 2,
   "metadata": {},
   "outputs": [
    {
     "output_type": "stream",
     "name": "stdout",
     "text": [
      "bar  A  B  C\nfoo         \none  1  2  3\ntwo  4  5  6\n"
     ]
    }
   ],
   "source": [
    "# using pivot\n",
    "pivot_df = pd.pivot(df, index='foo', columns='bar', values='baz')\n",
    "\n",
    "print(pivot_df)"
   ]
  },
  {
   "cell_type": "code",
   "execution_count": 3,
   "metadata": {},
   "outputs": [
    {
     "output_type": "stream",
     "name": "stdout",
     "text": [
      "bar  A  B  C\nfoo         \none  1  2  3\ntwo  4  5  6\n"
     ]
    }
   ],
   "source": [
    "#using pivot_table\n",
    "pivot_table_df= pd.pivot_table(df, index='foo', columns='bar', values='baz', aggfunc='sum')\n",
    "\n",
    "print(pivot_table_df)"
   ]
  },
  {
   "source": [
    "## Melting Data"
   ],
   "cell_type": "markdown",
   "metadata": {}
  },
  {
   "cell_type": "code",
   "execution_count": 4,
   "metadata": {},
   "outputs": [
    {
     "output_type": "execute_result",
     "data": {
      "text/plain": [
       "     Name    Course  Age\n",
       "0    John   Masters   27\n",
       "1     Bob  Graduate   23\n",
       "2  Shiela  Graduate   21"
      ],
      "text/html": "<div>\n<style scoped>\n    .dataframe tbody tr th:only-of-type {\n        vertical-align: middle;\n    }\n\n    .dataframe tbody tr th {\n        vertical-align: top;\n    }\n\n    .dataframe thead th {\n        text-align: right;\n    }\n</style>\n<table border=\"1\" class=\"dataframe\">\n  <thead>\n    <tr style=\"text-align: right;\">\n      <th></th>\n      <th>Name</th>\n      <th>Course</th>\n      <th>Age</th>\n    </tr>\n  </thead>\n  <tbody>\n    <tr>\n      <th>0</th>\n      <td>John</td>\n      <td>Masters</td>\n      <td>27</td>\n    </tr>\n    <tr>\n      <th>1</th>\n      <td>Bob</td>\n      <td>Graduate</td>\n      <td>23</td>\n    </tr>\n    <tr>\n      <th>2</th>\n      <td>Shiela</td>\n      <td>Graduate</td>\n      <td>21</td>\n    </tr>\n  </tbody>\n</table>\n</div>"
     },
     "metadata": {},
     "execution_count": 4
    }
   ],
   "source": [
    "# Membuat datafame sederhana\n",
    "  \n",
    "# importing pandas as pd \n",
    "import pandas as pd \n",
    "  \n",
    "# membuat dataframe\n",
    "df = pd.DataFrame({'Name': {0: 'John', 1: 'Bob', 2: 'Shiela'}, \n",
    "                   'Course': {0: 'Masters', 1: 'Graduate', 2: 'Graduate'}, \n",
    "                   'Age': {0: 27, 1: 23, 2: 21}}) \n",
    "df "
   ]
  },
  {
   "cell_type": "code",
   "execution_count": 5,
   "metadata": {},
   "outputs": [
    {
     "output_type": "execute_result",
     "data": {
      "text/plain": [
       "     Name variable     value\n",
       "0    John   Course   Masters\n",
       "1     Bob   Course  Graduate\n",
       "2  Shiela   Course  Graduate\n",
       "3    John      Age        27\n",
       "4     Bob      Age        23\n",
       "5  Shiela      Age        21"
      ],
      "text/html": "<div>\n<style scoped>\n    .dataframe tbody tr th:only-of-type {\n        vertical-align: middle;\n    }\n\n    .dataframe tbody tr th {\n        vertical-align: top;\n    }\n\n    .dataframe thead th {\n        text-align: right;\n    }\n</style>\n<table border=\"1\" class=\"dataframe\">\n  <thead>\n    <tr style=\"text-align: right;\">\n      <th></th>\n      <th>Name</th>\n      <th>variable</th>\n      <th>value</th>\n    </tr>\n  </thead>\n  <tbody>\n    <tr>\n      <th>0</th>\n      <td>John</td>\n      <td>Course</td>\n      <td>Masters</td>\n    </tr>\n    <tr>\n      <th>1</th>\n      <td>Bob</td>\n      <td>Course</td>\n      <td>Graduate</td>\n    </tr>\n    <tr>\n      <th>2</th>\n      <td>Shiela</td>\n      <td>Course</td>\n      <td>Graduate</td>\n    </tr>\n    <tr>\n      <th>3</th>\n      <td>John</td>\n      <td>Age</td>\n      <td>27</td>\n    </tr>\n    <tr>\n      <th>4</th>\n      <td>Bob</td>\n      <td>Age</td>\n      <td>23</td>\n    </tr>\n    <tr>\n      <th>5</th>\n      <td>Shiela</td>\n      <td>Age</td>\n      <td>21</td>\n    </tr>\n  </tbody>\n</table>\n</div>"
     },
     "metadata": {},
     "execution_count": 5
    }
   ],
   "source": [
    "# Unpivot table \n",
    "pd.melt(df, id_vars =['Name'], value_vars =['Course', 'Age']) "
   ]
  },
  {
   "cell_type": "code",
   "execution_count": null,
   "metadata": {},
   "outputs": [],
   "source": []
  }
 ]
}