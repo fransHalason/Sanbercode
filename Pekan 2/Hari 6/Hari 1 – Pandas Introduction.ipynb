{
 "metadata": {
  "language_info": {
   "codemirror_mode": {
    "name": "ipython",
    "version": 3
   },
   "file_extension": ".py",
   "mimetype": "text/x-python",
   "name": "python",
   "nbconvert_exporter": "python",
   "pygments_lexer": "ipython3",
   "version": "3.9.5"
  },
  "orig_nbformat": 4,
  "kernelspec": {
   "name": "python3",
   "display_name": "Python 3.9.5 64-bit"
  },
  "interpreter": {
   "hash": "b839018028d7c5166b93bdc4222a30f5462b9cb20ffe1b3af6c70f0ea8ead087"
  }
 },
 "nbformat": 4,
 "nbformat_minor": 2,
 "cells": [
  {
   "source": [
    "# Hari 1 – Pandas Introduction"
   ],
   "cell_type": "markdown",
   "metadata": {}
  },
  {
   "source": [
    "## Numpy Attributes"
   ],
   "cell_type": "markdown",
   "metadata": {}
  },
  {
   "cell_type": "code",
   "execution_count": 1,
   "metadata": {},
   "outputs": [
    {
     "output_type": "stream",
     "name": "stdout",
     "text": [
      "[[1 2 3 4 5]\n [6 7 8 9 0]]\n"
     ]
    }
   ],
   "source": [
    "import numpy as np\n",
    "\n",
    "my_numpy = np.array([\n",
    "                    [1,2,3,4,5],\n",
    "                    [6,7,8,9,0]\n",
    "                    ])\n",
    "print(my_numpy)"
   ]
  },
  {
   "cell_type": "code",
   "execution_count": 2,
   "metadata": {},
   "outputs": [
    {
     "output_type": "execute_result",
     "data": {
      "text/plain": [
       "2"
      ]
     },
     "metadata": {},
     "execution_count": 2
    }
   ],
   "source": [
    "# dimensi\n",
    "my_numpy.ndim"
   ]
  },
  {
   "cell_type": "code",
   "execution_count": 3,
   "metadata": {},
   "outputs": [
    {
     "output_type": "execute_result",
     "data": {
      "text/plain": [
       "(2, 5)"
      ]
     },
     "metadata": {},
     "execution_count": 3
    }
   ],
   "source": [
    "# shape\n",
    "my_numpy.shape"
   ]
  },
  {
   "cell_type": "code",
   "execution_count": 4,
   "metadata": {},
   "outputs": [
    {
     "output_type": "execute_result",
     "data": {
      "text/plain": [
       "dtype('int32')"
      ]
     },
     "metadata": {},
     "execution_count": 4
    }
   ],
   "source": [
    "# type\n",
    "my_numpy.dtype"
   ]
  },
  {
   "cell_type": "code",
   "execution_count": 5,
   "metadata": {},
   "outputs": [
    {
     "output_type": "execute_result",
     "data": {
      "text/plain": [
       "4"
      ]
     },
     "metadata": {},
     "execution_count": 5
    }
   ],
   "source": [
    "# itemsize\n",
    "my_numpy.itemsize"
   ]
  },
  {
   "cell_type": "code",
   "execution_count": 6,
   "metadata": {},
   "outputs": [
    {
     "output_type": "execute_result",
     "data": {
      "text/plain": [
       "40"
      ]
     },
     "metadata": {},
     "execution_count": 6
    }
   ],
   "source": [
    "# nbytes\n",
    "my_numpy.nbytes"
   ]
  },
  {
   "source": [
    "## Indexing Arrays"
   ],
   "cell_type": "markdown",
   "metadata": {}
  },
  {
   "cell_type": "code",
   "execution_count": 7,
   "metadata": {},
   "outputs": [
    {
     "output_type": "execute_result",
     "data": {
      "text/plain": [
       "array([8, 9, 0])"
      ]
     },
     "metadata": {},
     "execution_count": 7
    }
   ],
   "source": [
    "my_numpy[1][2:]"
   ]
  },
  {
   "source": [
    "### Slicing Array"
   ],
   "cell_type": "markdown",
   "metadata": {}
  },
  {
   "cell_type": "code",
   "execution_count": 8,
   "metadata": {},
   "outputs": [
    {
     "output_type": "stream",
     "name": "stdout",
     "text": [
      "[0 1 2 3 4 5 6 7 8 9]\n"
     ]
    }
   ],
   "source": [
    "# [start : stop :step]\n",
    "nmp = np.array(range(10))\n",
    "print(nmp)"
   ]
  },
  {
   "cell_type": "code",
   "execution_count": 9,
   "metadata": {},
   "outputs": [
    {
     "output_type": "execute_result",
     "data": {
      "text/plain": [
       "array([0, 2, 4])"
      ]
     },
     "metadata": {},
     "execution_count": 9
    }
   ],
   "source": [
    "nmp[0:6:2]"
   ]
  },
  {
   "cell_type": "code",
   "execution_count": 10,
   "metadata": {},
   "outputs": [
    {
     "output_type": "execute_result",
     "data": {
      "text/plain": [
       "array([[8, 9, 0]])"
      ]
     },
     "metadata": {},
     "execution_count": 10
    }
   ],
   "source": [
    "# multidimension \n",
    "my_numpy[1:,2:]"
   ]
  },
  {
   "source": [
    "## Reshaping Array"
   ],
   "cell_type": "markdown",
   "metadata": {}
  },
  {
   "cell_type": "code",
   "execution_count": 11,
   "metadata": {},
   "outputs": [
    {
     "output_type": "execute_result",
     "data": {
      "text/plain": [
       "array([[1, 2],\n",
       "       [3, 4],\n",
       "       [5, 6],\n",
       "       [7, 8],\n",
       "       [9, 0]])"
      ]
     },
     "metadata": {},
     "execution_count": 11
    }
   ],
   "source": [
    "my_numpy.reshape(5,2)"
   ]
  },
  {
   "source": [
    "### Joining Array"
   ],
   "cell_type": "markdown",
   "metadata": {}
  },
  {
   "cell_type": "code",
   "execution_count": 12,
   "metadata": {},
   "outputs": [
    {
     "output_type": "execute_result",
     "data": {
      "text/plain": [
       "array([[1, 2, 3, 4, 5],\n",
       "       [6, 7, 8, 9, 0],\n",
       "       [1, 2, 3, 1, 4],\n",
       "       [2, 3, 5, 3, 5]])"
      ]
     },
     "metadata": {},
     "execution_count": 12
    }
   ],
   "source": [
    "my_numpy = np.array([\n",
    "                    [1,2,3,4,5],\n",
    "                    [6,7,8,9,0]\n",
    "                    ])\n",
    "\n",
    "nmpy = np.array([\n",
    "                [1,2,3,1,4], \n",
    "                [2,3,5,3,5]\n",
    "                ])\n",
    "\n",
    "np.concatenate([my_numpy, nmpy])"
   ]
  },
  {
   "source": [
    "## Objek Pandas : Series vs DataFrame"
   ],
   "cell_type": "markdown",
   "metadata": {}
  },
  {
   "source": [
    "### Series"
   ],
   "cell_type": "markdown",
   "metadata": {}
  },
  {
   "cell_type": "code",
   "execution_count": 13,
   "metadata": {},
   "outputs": [
    {
     "output_type": "stream",
     "name": "stdout",
     "text": [
      "0    6\n1    3\n2    4\n3    6\ndtype: int64\n"
     ]
    }
   ],
   "source": [
    "import pandas as pd\n",
    "\n",
    "x = pd.Series([6,3,4,6])\n",
    "print(x)"
   ]
  },
  {
   "cell_type": "code",
   "execution_count": 14,
   "metadata": {},
   "outputs": [
    {
     "output_type": "stream",
     "name": "stdout",
     "text": [
      "a    6\nb    3\nc    4\nd    6\ndtype: int64\n"
     ]
    }
   ],
   "source": [
    "# mengubah sumbu/index\n",
    "# cara pertama\n",
    "x.index = ['a', 'b', 'c', 'd']\n",
    "print(x)"
   ]
  },
  {
   "cell_type": "code",
   "execution_count": 15,
   "metadata": {},
   "outputs": [
    {
     "output_type": "stream",
     "name": "stdout",
     "text": [
      "a    6\nb    3\nc    4\nd    6\ndtype: int64\n"
     ]
    }
   ],
   "source": [
    "# cara kedua\n",
    "x = pd.Series([6,3,4,6], index=['a', 'b', 'c', 'd'])\n",
    "print(x)"
   ]
  },
  {
   "cell_type": "code",
   "execution_count": 16,
   "metadata": {},
   "outputs": [
    {
     "output_type": "stream",
     "name": "stdout",
     "text": [
      "<class 'pandas.core.series.Series'>\n"
     ]
    }
   ],
   "source": [
    "# check tipe data\n",
    "print(type(x))"
   ]
  },
  {
   "source": [
    "### DataFrame"
   ],
   "cell_type": "markdown",
   "metadata": {}
  },
  {
   "cell_type": "code",
   "execution_count": 17,
   "metadata": {},
   "outputs": [
    {
     "output_type": "stream",
     "name": "stdout",
     "text": [
      "   tipe_int tipe_string\n0        50           a\n1        21           b\n"
     ]
    }
   ],
   "source": [
    "import pandas as pd\n",
    "\n",
    "df = pd.DataFrame({'tipe_int': [50, 21], 'tipe_string': ['a', 'b']})\n",
    "print(df)"
   ]
  },
  {
   "cell_type": "code",
   "execution_count": 18,
   "metadata": {},
   "outputs": [
    {
     "output_type": "stream",
     "name": "stdout",
     "text": [
      "<class 'pandas.core.frame.DataFrame'>\n"
     ]
    }
   ],
   "source": [
    "# check tipe data\n",
    "print(type(df))"
   ]
  },
  {
   "source": [
    "## Membaca data dari File "
   ],
   "cell_type": "markdown",
   "metadata": {}
  },
  {
   "cell_type": "code",
   "execution_count": 24,
   "metadata": {},
   "outputs": [],
   "source": [
    "# membaca dari dari csv\n",
    "df_from_csv = pd.read_csv('Data COVID-19 Jawa Barat.csv')"
   ]
  },
  {
   "cell_type": "code",
   "execution_count": 25,
   "metadata": {},
   "outputs": [],
   "source": [
    "# membaca dari dari csv\n",
    "df_from_csv = pd.read_csv('Data COVID-19 Jawa Barat.csv')"
   ]
  },
  {
   "source": [
    "## Pemeriksaan Sederhana Tentang Karakteristik Data "
   ],
   "cell_type": "markdown",
   "metadata": {}
  },
  {
   "cell_type": "code",
   "execution_count": 26,
   "metadata": {},
   "outputs": [],
   "source": [
    "df_from_csv = pd.read_csv('Data COVID-19 Jawa Barat.csv')"
   ]
  },
  {
   "cell_type": "code",
   "execution_count": 27,
   "metadata": {},
   "outputs": [
    {
     "output_type": "execute_result",
     "data": {
      "text/plain": [
       "      tanggal  kode_prov            nama_prov  kode_kab            nama_kab  \\\n",
       "0  2020-08-01         32  Provinsi Jawa Barat      3277         KOTA CIMAHI   \n",
       "1  2020-08-01         32  Provinsi Jawa Barat      3217  KAB. BANDUNG BARAT   \n",
       "2  2020-08-01         32  Provinsi Jawa Barat      3203        KAB. CIANJUR   \n",
       "3  2020-08-01         32  Provinsi Jawa Barat      3276          KOTA DEPOK   \n",
       "4  2020-08-01         32  Provinsi Jawa Barat      3209        KAB. CIREBON   \n",
       "5  2020-08-01         32  Provinsi Jawa Barat      3207         KAB. CIAMIS   \n",
       "6  2020-08-01         32  Provinsi Jawa Barat      3275         KOTA BEKASI   \n",
       "\n",
       "   closecontact  closecontact_dikarantina  closecontact_discarded  suspect  \\\n",
       "0             0                         0                       0        0   \n",
       "1             0                         0                       0        0   \n",
       "2             0                         0                       0        0   \n",
       "3             0                         0                       0        0   \n",
       "4             0                         0                       0        0   \n",
       "5             0                         0                       0        0   \n",
       "6             0                         0                       0        0   \n",
       "\n",
       "   suspect_diisolasi  ...  pertumbuhan_suspect_discarded  \\\n",
       "0                  0  ...                              0   \n",
       "1                  0  ...                              0   \n",
       "2                  0  ...                              0   \n",
       "3                  0  ...                              0   \n",
       "4                  0  ...                              0   \n",
       "5                  0  ...                              0   \n",
       "6                  0  ...                              0   \n",
       "\n",
       "   pertumbuhan_suspect_diisolasi  pertumbuhan_probable  \\\n",
       "0                              0                     0   \n",
       "1                              0                     0   \n",
       "2                              0                     0   \n",
       "3                              0                     0   \n",
       "4                              0                     0   \n",
       "5                              0                     0   \n",
       "6                              0                     0   \n",
       "\n",
       "   pertumbuhan_probable_discarded  pertumbuhan_probable_diisolasi  \\\n",
       "0                               0                               0   \n",
       "1                               0                               0   \n",
       "2                               0                               0   \n",
       "3                               0                               0   \n",
       "4                               0                               0   \n",
       "5                               0                               0   \n",
       "6                               0                               0   \n",
       "\n",
       "   pertumbuhan_probable_meninggal  pertumbuhan_confirmation  \\\n",
       "0                               0                         1   \n",
       "1                               0                         1   \n",
       "2                               0                         0   \n",
       "3                               0                         8   \n",
       "4                               0                         0   \n",
       "5                               0                         0   \n",
       "6                               0                         3   \n",
       "\n",
       "   pertumbuhan_confirmation_selesai  pertumbuhan_confirmation_meninggal  \\\n",
       "0                                 0                                   0   \n",
       "1                                 0                                   0   \n",
       "2                                 0                                   0   \n",
       "3                                 0                                   0   \n",
       "4                                 0                                   0   \n",
       "5                                 0                                   0   \n",
       "6                                 0                                   0   \n",
       "\n",
       "   Unnamed: 31  \n",
       "0          NaN  \n",
       "1          NaN  \n",
       "2          NaN  \n",
       "3          NaN  \n",
       "4          NaN  \n",
       "5          NaN  \n",
       "6          NaN  \n",
       "\n",
       "[7 rows x 32 columns]"
      ],
      "text/html": "<div>\n<style scoped>\n    .dataframe tbody tr th:only-of-type {\n        vertical-align: middle;\n    }\n\n    .dataframe tbody tr th {\n        vertical-align: top;\n    }\n\n    .dataframe thead th {\n        text-align: right;\n    }\n</style>\n<table border=\"1\" class=\"dataframe\">\n  <thead>\n    <tr style=\"text-align: right;\">\n      <th></th>\n      <th>tanggal</th>\n      <th>kode_prov</th>\n      <th>nama_prov</th>\n      <th>kode_kab</th>\n      <th>nama_kab</th>\n      <th>closecontact</th>\n      <th>closecontact_dikarantina</th>\n      <th>closecontact_discarded</th>\n      <th>suspect</th>\n      <th>suspect_diisolasi</th>\n      <th>...</th>\n      <th>pertumbuhan_suspect_discarded</th>\n      <th>pertumbuhan_suspect_diisolasi</th>\n      <th>pertumbuhan_probable</th>\n      <th>pertumbuhan_probable_discarded</th>\n      <th>pertumbuhan_probable_diisolasi</th>\n      <th>pertumbuhan_probable_meninggal</th>\n      <th>pertumbuhan_confirmation</th>\n      <th>pertumbuhan_confirmation_selesai</th>\n      <th>pertumbuhan_confirmation_meninggal</th>\n      <th>Unnamed: 31</th>\n    </tr>\n  </thead>\n  <tbody>\n    <tr>\n      <th>0</th>\n      <td>2020-08-01</td>\n      <td>32</td>\n      <td>Provinsi Jawa Barat</td>\n      <td>3277</td>\n      <td>KOTA CIMAHI</td>\n      <td>0</td>\n      <td>0</td>\n      <td>0</td>\n      <td>0</td>\n      <td>0</td>\n      <td>...</td>\n      <td>0</td>\n      <td>0</td>\n      <td>0</td>\n      <td>0</td>\n      <td>0</td>\n      <td>0</td>\n      <td>1</td>\n      <td>0</td>\n      <td>0</td>\n      <td>NaN</td>\n    </tr>\n    <tr>\n      <th>1</th>\n      <td>2020-08-01</td>\n      <td>32</td>\n      <td>Provinsi Jawa Barat</td>\n      <td>3217</td>\n      <td>KAB. BANDUNG BARAT</td>\n      <td>0</td>\n      <td>0</td>\n      <td>0</td>\n      <td>0</td>\n      <td>0</td>\n      <td>...</td>\n      <td>0</td>\n      <td>0</td>\n      <td>0</td>\n      <td>0</td>\n      <td>0</td>\n      <td>0</td>\n      <td>1</td>\n      <td>0</td>\n      <td>0</td>\n      <td>NaN</td>\n    </tr>\n    <tr>\n      <th>2</th>\n      <td>2020-08-01</td>\n      <td>32</td>\n      <td>Provinsi Jawa Barat</td>\n      <td>3203</td>\n      <td>KAB. CIANJUR</td>\n      <td>0</td>\n      <td>0</td>\n      <td>0</td>\n      <td>0</td>\n      <td>0</td>\n      <td>...</td>\n      <td>0</td>\n      <td>0</td>\n      <td>0</td>\n      <td>0</td>\n      <td>0</td>\n      <td>0</td>\n      <td>0</td>\n      <td>0</td>\n      <td>0</td>\n      <td>NaN</td>\n    </tr>\n    <tr>\n      <th>3</th>\n      <td>2020-08-01</td>\n      <td>32</td>\n      <td>Provinsi Jawa Barat</td>\n      <td>3276</td>\n      <td>KOTA DEPOK</td>\n      <td>0</td>\n      <td>0</td>\n      <td>0</td>\n      <td>0</td>\n      <td>0</td>\n      <td>...</td>\n      <td>0</td>\n      <td>0</td>\n      <td>0</td>\n      <td>0</td>\n      <td>0</td>\n      <td>0</td>\n      <td>8</td>\n      <td>0</td>\n      <td>0</td>\n      <td>NaN</td>\n    </tr>\n    <tr>\n      <th>4</th>\n      <td>2020-08-01</td>\n      <td>32</td>\n      <td>Provinsi Jawa Barat</td>\n      <td>3209</td>\n      <td>KAB. CIREBON</td>\n      <td>0</td>\n      <td>0</td>\n      <td>0</td>\n      <td>0</td>\n      <td>0</td>\n      <td>...</td>\n      <td>0</td>\n      <td>0</td>\n      <td>0</td>\n      <td>0</td>\n      <td>0</td>\n      <td>0</td>\n      <td>0</td>\n      <td>0</td>\n      <td>0</td>\n      <td>NaN</td>\n    </tr>\n    <tr>\n      <th>5</th>\n      <td>2020-08-01</td>\n      <td>32</td>\n      <td>Provinsi Jawa Barat</td>\n      <td>3207</td>\n      <td>KAB. CIAMIS</td>\n      <td>0</td>\n      <td>0</td>\n      <td>0</td>\n      <td>0</td>\n      <td>0</td>\n      <td>...</td>\n      <td>0</td>\n      <td>0</td>\n      <td>0</td>\n      <td>0</td>\n      <td>0</td>\n      <td>0</td>\n      <td>0</td>\n      <td>0</td>\n      <td>0</td>\n      <td>NaN</td>\n    </tr>\n    <tr>\n      <th>6</th>\n      <td>2020-08-01</td>\n      <td>32</td>\n      <td>Provinsi Jawa Barat</td>\n      <td>3275</td>\n      <td>KOTA BEKASI</td>\n      <td>0</td>\n      <td>0</td>\n      <td>0</td>\n      <td>0</td>\n      <td>0</td>\n      <td>...</td>\n      <td>0</td>\n      <td>0</td>\n      <td>0</td>\n      <td>0</td>\n      <td>0</td>\n      <td>0</td>\n      <td>3</td>\n      <td>0</td>\n      <td>0</td>\n      <td>NaN</td>\n    </tr>\n  </tbody>\n</table>\n<p>7 rows × 32 columns</p>\n</div>"
     },
     "metadata": {},
     "execution_count": 27
    }
   ],
   "source": [
    "df_from_csv.head(7)"
   ]
  },
  {
   "cell_type": "code",
   "execution_count": 29,
   "metadata": {},
   "outputs": [
    {
     "output_type": "execute_result",
     "data": {
      "text/plain": [
       "         tanggal  kode_prov            nama_prov  kode_kab          nama_kab  \\\n",
       "9011  2021-06-18         32  Provinsi Jawa Barat      3214   KAB. PURWAKARTA   \n",
       "9012  2021-06-18         32  Provinsi Jawa Barat      3202     KAB. SUKABUMI   \n",
       "9013  2021-06-18         32  Provinsi Jawa Barat      3278  KOTA TASIKMALAYA   \n",
       "9014  2021-06-18         32  Provinsi Jawa Barat      3216       KAB. BEKASI   \n",
       "9015  2021-06-18         32  Provinsi Jawa Barat      3211     KAB. SUMEDANG   \n",
       "\n",
       "      closecontact  closecontact_dikarantina  closecontact_discarded  suspect  \\\n",
       "9011          4824                      2938                    1886     2766   \n",
       "9012         11832                     10027                    1805    11059   \n",
       "9013         12812                     12370                     442     2659   \n",
       "9014         28205                     23210                    4995    18741   \n",
       "9015          4440                      3057                    1383     1917   \n",
       "\n",
       "      suspect_diisolasi  ...  pertumbuhan_suspect_discarded  \\\n",
       "9011               1936  ...                              0   \n",
       "9012              10332  ...                              0   \n",
       "9013               2610  ...                              0   \n",
       "9014              12078  ...                              0   \n",
       "9015                956  ...                              0   \n",
       "\n",
       "      pertumbuhan_suspect_diisolasi  pertumbuhan_probable  \\\n",
       "9011                              0                     0   \n",
       "9012                              0                     0   \n",
       "9013                              0                     0   \n",
       "9014                              0                     0   \n",
       "9015                              0                     0   \n",
       "\n",
       "      pertumbuhan_probable_discarded  pertumbuhan_probable_diisolasi  \\\n",
       "9011                               0                               0   \n",
       "9012                               0                               0   \n",
       "9013                               0                               0   \n",
       "9014                               0                               0   \n",
       "9015                               0                               0   \n",
       "\n",
       "      pertumbuhan_probable_meninggal  pertumbuhan_confirmation  \\\n",
       "9011                               0                         2   \n",
       "9012                               0                        10   \n",
       "9013                               0                        10   \n",
       "9014                               0                       148   \n",
       "9015                               0                       202   \n",
       "\n",
       "      pertumbuhan_confirmation_selesai  pertumbuhan_confirmation_meninggal  \\\n",
       "9011                                 5                                   0   \n",
       "9012                                 0                                   0   \n",
       "9013                               132                                   0   \n",
       "9014                                 0                                   0   \n",
       "9015                                 0                                   0   \n",
       "\n",
       "      Unnamed: 31  \n",
       "9011          NaN  \n",
       "9012          NaN  \n",
       "9013          NaN  \n",
       "9014          NaN  \n",
       "9015          NaN  \n",
       "\n",
       "[5 rows x 32 columns]"
      ],
      "text/html": "<div>\n<style scoped>\n    .dataframe tbody tr th:only-of-type {\n        vertical-align: middle;\n    }\n\n    .dataframe tbody tr th {\n        vertical-align: top;\n    }\n\n    .dataframe thead th {\n        text-align: right;\n    }\n</style>\n<table border=\"1\" class=\"dataframe\">\n  <thead>\n    <tr style=\"text-align: right;\">\n      <th></th>\n      <th>tanggal</th>\n      <th>kode_prov</th>\n      <th>nama_prov</th>\n      <th>kode_kab</th>\n      <th>nama_kab</th>\n      <th>closecontact</th>\n      <th>closecontact_dikarantina</th>\n      <th>closecontact_discarded</th>\n      <th>suspect</th>\n      <th>suspect_diisolasi</th>\n      <th>...</th>\n      <th>pertumbuhan_suspect_discarded</th>\n      <th>pertumbuhan_suspect_diisolasi</th>\n      <th>pertumbuhan_probable</th>\n      <th>pertumbuhan_probable_discarded</th>\n      <th>pertumbuhan_probable_diisolasi</th>\n      <th>pertumbuhan_probable_meninggal</th>\n      <th>pertumbuhan_confirmation</th>\n      <th>pertumbuhan_confirmation_selesai</th>\n      <th>pertumbuhan_confirmation_meninggal</th>\n      <th>Unnamed: 31</th>\n    </tr>\n  </thead>\n  <tbody>\n    <tr>\n      <th>9011</th>\n      <td>2021-06-18</td>\n      <td>32</td>\n      <td>Provinsi Jawa Barat</td>\n      <td>3214</td>\n      <td>KAB. PURWAKARTA</td>\n      <td>4824</td>\n      <td>2938</td>\n      <td>1886</td>\n      <td>2766</td>\n      <td>1936</td>\n      <td>...</td>\n      <td>0</td>\n      <td>0</td>\n      <td>0</td>\n      <td>0</td>\n      <td>0</td>\n      <td>0</td>\n      <td>2</td>\n      <td>5</td>\n      <td>0</td>\n      <td>NaN</td>\n    </tr>\n    <tr>\n      <th>9012</th>\n      <td>2021-06-18</td>\n      <td>32</td>\n      <td>Provinsi Jawa Barat</td>\n      <td>3202</td>\n      <td>KAB. SUKABUMI</td>\n      <td>11832</td>\n      <td>10027</td>\n      <td>1805</td>\n      <td>11059</td>\n      <td>10332</td>\n      <td>...</td>\n      <td>0</td>\n      <td>0</td>\n      <td>0</td>\n      <td>0</td>\n      <td>0</td>\n      <td>0</td>\n      <td>10</td>\n      <td>0</td>\n      <td>0</td>\n      <td>NaN</td>\n    </tr>\n    <tr>\n      <th>9013</th>\n      <td>2021-06-18</td>\n      <td>32</td>\n      <td>Provinsi Jawa Barat</td>\n      <td>3278</td>\n      <td>KOTA TASIKMALAYA</td>\n      <td>12812</td>\n      <td>12370</td>\n      <td>442</td>\n      <td>2659</td>\n      <td>2610</td>\n      <td>...</td>\n      <td>0</td>\n      <td>0</td>\n      <td>0</td>\n      <td>0</td>\n      <td>0</td>\n      <td>0</td>\n      <td>10</td>\n      <td>132</td>\n      <td>0</td>\n      <td>NaN</td>\n    </tr>\n    <tr>\n      <th>9014</th>\n      <td>2021-06-18</td>\n      <td>32</td>\n      <td>Provinsi Jawa Barat</td>\n      <td>3216</td>\n      <td>KAB. BEKASI</td>\n      <td>28205</td>\n      <td>23210</td>\n      <td>4995</td>\n      <td>18741</td>\n      <td>12078</td>\n      <td>...</td>\n      <td>0</td>\n      <td>0</td>\n      <td>0</td>\n      <td>0</td>\n      <td>0</td>\n      <td>0</td>\n      <td>148</td>\n      <td>0</td>\n      <td>0</td>\n      <td>NaN</td>\n    </tr>\n    <tr>\n      <th>9015</th>\n      <td>2021-06-18</td>\n      <td>32</td>\n      <td>Provinsi Jawa Barat</td>\n      <td>3211</td>\n      <td>KAB. SUMEDANG</td>\n      <td>4440</td>\n      <td>3057</td>\n      <td>1383</td>\n      <td>1917</td>\n      <td>956</td>\n      <td>...</td>\n      <td>0</td>\n      <td>0</td>\n      <td>0</td>\n      <td>0</td>\n      <td>0</td>\n      <td>0</td>\n      <td>202</td>\n      <td>0</td>\n      <td>0</td>\n      <td>NaN</td>\n    </tr>\n  </tbody>\n</table>\n<p>5 rows × 32 columns</p>\n</div>"
     },
     "metadata": {},
     "execution_count": 29
    }
   ],
   "source": [
    "df_from_csv.tail(5)"
   ]
  },
  {
   "cell_type": "code",
   "execution_count": 30,
   "metadata": {},
   "outputs": [
    {
     "output_type": "stream",
     "name": "stdout",
     "text": [
      "<class 'pandas.core.frame.DataFrame'>\nRangeIndex: 9016 entries, 0 to 9015\nData columns (total 32 columns):\n #   Column                                Non-Null Count  Dtype  \n---  ------                                --------------  -----  \n 0   tanggal                               9016 non-null   object \n 1   kode_prov                             9016 non-null   int64  \n 2   nama_prov                             9016 non-null   object \n 3   kode_kab                              9016 non-null   int64  \n 4   nama_kab                              9016 non-null   object \n 5   closecontact                          9016 non-null   int64  \n 6   closecontact_dikarantina              9016 non-null   int64  \n 7   closecontact_discarded                9016 non-null   int64  \n 8   suspect                               9016 non-null   int64  \n 9   suspect_diisolasi                     9016 non-null   int64  \n 10  suspect_discarded                     9016 non-null   int64  \n 11  probable                              9016 non-null   int64  \n 12  probable_diisolasi                    9016 non-null   int64  \n 13  probable_discarded                    9016 non-null   int64  \n 14  probable_meninggal                    9016 non-null   int64  \n 15  confirmation                          9016 non-null   int64  \n 16  confirmation_selesai                  9016 non-null   int64  \n 17  confirmation_meninggal                9016 non-null   int64  \n 18  pertumbuhan_closecontact              9016 non-null   int64  \n 19  pertumbuhan_closecontact_discarded    9016 non-null   int64  \n 20  pertumbuhan_closecontact_dikarantina  9016 non-null   int64  \n 21  pertumbuhan_suspect                   9016 non-null   int64  \n 22  pertumbuhan_suspect_discarded         9016 non-null   int64  \n 23  pertumbuhan_suspect_diisolasi         9016 non-null   int64  \n 24  pertumbuhan_probable                  9016 non-null   int64  \n 25  pertumbuhan_probable_discarded        9016 non-null   int64  \n 26  pertumbuhan_probable_diisolasi        9016 non-null   int64  \n 27  pertumbuhan_probable_meninggal        9016 non-null   int64  \n 28  pertumbuhan_confirmation              9016 non-null   int64  \n 29  pertumbuhan_confirmation_selesai      9016 non-null   int64  \n 30  pertumbuhan_confirmation_meninggal    9016 non-null   int64  \n 31  Unnamed: 31                           0 non-null      float64\ndtypes: float64(1), int64(28), object(3)\nmemory usage: 2.2+ MB\n"
     ]
    }
   ],
   "source": [
    "df_from_csv.info()"
   ]
  },
  {
   "cell_type": "code",
   "execution_count": 31,
   "metadata": {},
   "outputs": [
    {
     "output_type": "execute_result",
     "data": {
      "text/plain": [
       "       kode_prov     kode_kab  closecontact  closecontact_dikarantina  \\\n",
       "count     9016.0  9016.000000   9016.000000               9016.000000   \n",
       "mean        32.0  3115.928571   7959.792147               6097.102484   \n",
       "std          0.0   600.476288  10805.391749               9321.015733   \n",
       "min         32.0     0.000000      0.000000                  0.000000   \n",
       "25%         32.0  3206.750000   1113.500000                601.000000   \n",
       "50%         32.0  3213.500000   3261.000000               2105.000000   \n",
       "75%         32.0  3272.250000  10598.000000               7408.000000   \n",
       "max         32.0  3279.000000  55849.000000              49289.000000   \n",
       "\n",
       "       closecontact_discarded       suspect  suspect_diisolasi  \\\n",
       "count             9016.000000   9016.000000        9016.000000   \n",
       "mean              1862.689663   4305.467280        3277.370674   \n",
       "std               2015.057649   4809.280089        4011.510008   \n",
       "min                  0.000000      0.000000           0.000000   \n",
       "25%                311.000000   1094.750000         597.000000   \n",
       "50%               1107.000000   2251.500000        1533.000000   \n",
       "75%               2547.750000   6255.000000        5409.000000   \n",
       "max               7731.000000  22153.000000       18896.000000   \n",
       "\n",
       "       suspect_discarded     probable  probable_diisolasi  ...  \\\n",
       "count        9016.000000  9016.000000         9016.000000  ...   \n",
       "mean          931.401176   101.955524           50.488576  ...   \n",
       "std          1311.359381   239.595782          163.294858  ...   \n",
       "min             0.000000     0.000000            0.000000  ...   \n",
       "25%            61.000000     6.000000            0.000000  ...   \n",
       "50%           417.000000    31.000000            1.000000  ...   \n",
       "75%          1038.000000    78.000000           19.000000  ...   \n",
       "max          6312.000000  1695.000000         1191.000000  ...   \n",
       "\n",
       "       pertumbuhan_suspect_discarded  pertumbuhan_suspect_diisolasi  \\\n",
       "count                    9016.000000                    9016.000000   \n",
       "mean                       16.117125                       4.033163   \n",
       "std                       191.782354                      60.437096   \n",
       "min                         0.000000                       0.000000   \n",
       "25%                         0.000000                       0.000000   \n",
       "50%                         0.000000                       0.000000   \n",
       "75%                         0.000000                       0.000000   \n",
       "max                      7690.000000                    4001.000000   \n",
       "\n",
       "       pertumbuhan_probable  pertumbuhan_probable_discarded  \\\n",
       "count            9016.00000                     9016.000000   \n",
       "mean                0.53272                        0.298026   \n",
       "std                 5.21898                        4.101624   \n",
       "min                 0.00000                        0.000000   \n",
       "25%                 0.00000                        0.000000   \n",
       "50%                 0.00000                        0.000000   \n",
       "75%                 0.00000                        0.000000   \n",
       "max               287.00000                      268.000000   \n",
       "\n",
       "       pertumbuhan_probable_diisolasi  pertumbuhan_probable_meninggal  \\\n",
       "count                     9016.000000                     9016.000000   \n",
       "mean                         0.078749                        0.155945   \n",
       "std                          0.707623                        2.297911   \n",
       "min                          0.000000                        0.000000   \n",
       "25%                          0.000000                        0.000000   \n",
       "50%                          0.000000                        0.000000   \n",
       "75%                          0.000000                        0.000000   \n",
       "max                         25.000000                      163.000000   \n",
       "\n",
       "       pertumbuhan_confirmation  pertumbuhan_confirmation_selesai  \\\n",
       "count               9016.000000                       9016.000000   \n",
       "mean                  37.036713                         33.846606   \n",
       "std                   99.519964                        101.879089   \n",
       "min                    0.000000                          0.000000   \n",
       "25%                    0.000000                          0.000000   \n",
       "50%                    5.000000                          1.000000   \n",
       "75%                   37.000000                         26.000000   \n",
       "max                 2440.000000                       3260.000000   \n",
       "\n",
       "       pertumbuhan_confirmation_meninggal  Unnamed: 31  \n",
       "count                         9016.000000          0.0  \n",
       "mean                             0.232032          NaN  \n",
       "std                              1.968261          NaN  \n",
       "min                              0.000000          NaN  \n",
       "25%                              0.000000          NaN  \n",
       "50%                              0.000000          NaN  \n",
       "75%                              0.000000          NaN  \n",
       "max                            100.000000          NaN  \n",
       "\n",
       "[8 rows x 29 columns]"
      ],
      "text/html": "<div>\n<style scoped>\n    .dataframe tbody tr th:only-of-type {\n        vertical-align: middle;\n    }\n\n    .dataframe tbody tr th {\n        vertical-align: top;\n    }\n\n    .dataframe thead th {\n        text-align: right;\n    }\n</style>\n<table border=\"1\" class=\"dataframe\">\n  <thead>\n    <tr style=\"text-align: right;\">\n      <th></th>\n      <th>kode_prov</th>\n      <th>kode_kab</th>\n      <th>closecontact</th>\n      <th>closecontact_dikarantina</th>\n      <th>closecontact_discarded</th>\n      <th>suspect</th>\n      <th>suspect_diisolasi</th>\n      <th>suspect_discarded</th>\n      <th>probable</th>\n      <th>probable_diisolasi</th>\n      <th>...</th>\n      <th>pertumbuhan_suspect_discarded</th>\n      <th>pertumbuhan_suspect_diisolasi</th>\n      <th>pertumbuhan_probable</th>\n      <th>pertumbuhan_probable_discarded</th>\n      <th>pertumbuhan_probable_diisolasi</th>\n      <th>pertumbuhan_probable_meninggal</th>\n      <th>pertumbuhan_confirmation</th>\n      <th>pertumbuhan_confirmation_selesai</th>\n      <th>pertumbuhan_confirmation_meninggal</th>\n      <th>Unnamed: 31</th>\n    </tr>\n  </thead>\n  <tbody>\n    <tr>\n      <th>count</th>\n      <td>9016.0</td>\n      <td>9016.000000</td>\n      <td>9016.000000</td>\n      <td>9016.000000</td>\n      <td>9016.000000</td>\n      <td>9016.000000</td>\n      <td>9016.000000</td>\n      <td>9016.000000</td>\n      <td>9016.000000</td>\n      <td>9016.000000</td>\n      <td>...</td>\n      <td>9016.000000</td>\n      <td>9016.000000</td>\n      <td>9016.00000</td>\n      <td>9016.000000</td>\n      <td>9016.000000</td>\n      <td>9016.000000</td>\n      <td>9016.000000</td>\n      <td>9016.000000</td>\n      <td>9016.000000</td>\n      <td>0.0</td>\n    </tr>\n    <tr>\n      <th>mean</th>\n      <td>32.0</td>\n      <td>3115.928571</td>\n      <td>7959.792147</td>\n      <td>6097.102484</td>\n      <td>1862.689663</td>\n      <td>4305.467280</td>\n      <td>3277.370674</td>\n      <td>931.401176</td>\n      <td>101.955524</td>\n      <td>50.488576</td>\n      <td>...</td>\n      <td>16.117125</td>\n      <td>4.033163</td>\n      <td>0.53272</td>\n      <td>0.298026</td>\n      <td>0.078749</td>\n      <td>0.155945</td>\n      <td>37.036713</td>\n      <td>33.846606</td>\n      <td>0.232032</td>\n      <td>NaN</td>\n    </tr>\n    <tr>\n      <th>std</th>\n      <td>0.0</td>\n      <td>600.476288</td>\n      <td>10805.391749</td>\n      <td>9321.015733</td>\n      <td>2015.057649</td>\n      <td>4809.280089</td>\n      <td>4011.510008</td>\n      <td>1311.359381</td>\n      <td>239.595782</td>\n      <td>163.294858</td>\n      <td>...</td>\n      <td>191.782354</td>\n      <td>60.437096</td>\n      <td>5.21898</td>\n      <td>4.101624</td>\n      <td>0.707623</td>\n      <td>2.297911</td>\n      <td>99.519964</td>\n      <td>101.879089</td>\n      <td>1.968261</td>\n      <td>NaN</td>\n    </tr>\n    <tr>\n      <th>min</th>\n      <td>32.0</td>\n      <td>0.000000</td>\n      <td>0.000000</td>\n      <td>0.000000</td>\n      <td>0.000000</td>\n      <td>0.000000</td>\n      <td>0.000000</td>\n      <td>0.000000</td>\n      <td>0.000000</td>\n      <td>0.000000</td>\n      <td>...</td>\n      <td>0.000000</td>\n      <td>0.000000</td>\n      <td>0.00000</td>\n      <td>0.000000</td>\n      <td>0.000000</td>\n      <td>0.000000</td>\n      <td>0.000000</td>\n      <td>0.000000</td>\n      <td>0.000000</td>\n      <td>NaN</td>\n    </tr>\n    <tr>\n      <th>25%</th>\n      <td>32.0</td>\n      <td>3206.750000</td>\n      <td>1113.500000</td>\n      <td>601.000000</td>\n      <td>311.000000</td>\n      <td>1094.750000</td>\n      <td>597.000000</td>\n      <td>61.000000</td>\n      <td>6.000000</td>\n      <td>0.000000</td>\n      <td>...</td>\n      <td>0.000000</td>\n      <td>0.000000</td>\n      <td>0.00000</td>\n      <td>0.000000</td>\n      <td>0.000000</td>\n      <td>0.000000</td>\n      <td>0.000000</td>\n      <td>0.000000</td>\n      <td>0.000000</td>\n      <td>NaN</td>\n    </tr>\n    <tr>\n      <th>50%</th>\n      <td>32.0</td>\n      <td>3213.500000</td>\n      <td>3261.000000</td>\n      <td>2105.000000</td>\n      <td>1107.000000</td>\n      <td>2251.500000</td>\n      <td>1533.000000</td>\n      <td>417.000000</td>\n      <td>31.000000</td>\n      <td>1.000000</td>\n      <td>...</td>\n      <td>0.000000</td>\n      <td>0.000000</td>\n      <td>0.00000</td>\n      <td>0.000000</td>\n      <td>0.000000</td>\n      <td>0.000000</td>\n      <td>5.000000</td>\n      <td>1.000000</td>\n      <td>0.000000</td>\n      <td>NaN</td>\n    </tr>\n    <tr>\n      <th>75%</th>\n      <td>32.0</td>\n      <td>3272.250000</td>\n      <td>10598.000000</td>\n      <td>7408.000000</td>\n      <td>2547.750000</td>\n      <td>6255.000000</td>\n      <td>5409.000000</td>\n      <td>1038.000000</td>\n      <td>78.000000</td>\n      <td>19.000000</td>\n      <td>...</td>\n      <td>0.000000</td>\n      <td>0.000000</td>\n      <td>0.00000</td>\n      <td>0.000000</td>\n      <td>0.000000</td>\n      <td>0.000000</td>\n      <td>37.000000</td>\n      <td>26.000000</td>\n      <td>0.000000</td>\n      <td>NaN</td>\n    </tr>\n    <tr>\n      <th>max</th>\n      <td>32.0</td>\n      <td>3279.000000</td>\n      <td>55849.000000</td>\n      <td>49289.000000</td>\n      <td>7731.000000</td>\n      <td>22153.000000</td>\n      <td>18896.000000</td>\n      <td>6312.000000</td>\n      <td>1695.000000</td>\n      <td>1191.000000</td>\n      <td>...</td>\n      <td>7690.000000</td>\n      <td>4001.000000</td>\n      <td>287.00000</td>\n      <td>268.000000</td>\n      <td>25.000000</td>\n      <td>163.000000</td>\n      <td>2440.000000</td>\n      <td>3260.000000</td>\n      <td>100.000000</td>\n      <td>NaN</td>\n    </tr>\n  </tbody>\n</table>\n<p>8 rows × 29 columns</p>\n</div>"
     },
     "metadata": {},
     "execution_count": 31
    }
   ],
   "source": [
    "df_from_csv.describe()"
   ]
  }
 ]
}