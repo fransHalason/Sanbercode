{
 "metadata": {
  "language_info": {
   "codemirror_mode": {
    "name": "ipython",
    "version": 3
   },
   "file_extension": ".py",
   "mimetype": "text/x-python",
   "name": "python",
   "nbconvert_exporter": "python",
   "pygments_lexer": "ipython3",
   "version": "3.9.5"
  },
  "orig_nbformat": 4,
  "kernelspec": {
   "name": "python3",
   "display_name": "Python 3.9.5 64-bit"
  },
  "interpreter": {
   "hash": "b839018028d7c5166b93bdc4222a30f5462b9cb20ffe1b3af6c70f0ea8ead087"
  }
 },
 "nbformat": 4,
 "nbformat_minor": 2,
 "cells": [
  {
   "source": [
    "# Hari 1 - Hello Python"
   ],
   "cell_type": "markdown",
   "metadata": {}
  },
  {
   "cell_type": "code",
   "execution_count": 2,
   "metadata": {},
   "outputs": [
    {
     "output_type": "stream",
     "name": "stdout",
     "text": [
      "Hello i am Ayu i am 17 years old\nHello i am  Ayu  i am  17  years old\n"
     ]
    }
   ],
   "source": [
    "name = 'Ayu'\n",
    "age = 17\n",
    "print('Hello i am ' + name + ' i am ' + str(age) + ' years old')\n",
    "print('Hello i am ', name, ' i am ', age, ' years old')"
   ]
  },
  {
   "cell_type": "code",
   "execution_count": 3,
   "metadata": {},
   "outputs": [
    {
     "output_type": "stream",
     "name": "stdout",
     "text": [
      "Hello i am Ayu i am 17 years old\n"
     ]
    }
   ],
   "source": [
    "# Old Style\n",
    "print('Hello i am %s i am %d years old' % (name, age))"
   ]
  },
  {
   "cell_type": "code",
   "execution_count": 4,
   "metadata": {},
   "outputs": [
    {
     "output_type": "stream",
     "name": "stdout",
     "text": [
      "Hello i am Ayu i am 17 years old\n"
     ]
    }
   ],
   "source": [
    "# 'New Style' string formatting\n",
    "print('Hello i am {0} i am {1} years old'.format(name, age))"
   ]
  },
  {
   "cell_type": "code",
   "execution_count": 5,
   "metadata": {},
   "outputs": [
    {
     "output_type": "stream",
     "name": "stdout",
     "text": [
      "Hello i am Ayu i am 17 years old\n"
     ]
    }
   ],
   "source": [
    "# string interpolation\n",
    "print(f'Hello i am {name} i am {age} years old')"
   ]
  },
  {
   "cell_type": "code",
   "execution_count": null,
   "metadata": {},
   "outputs": [],
   "source": []
  }
 ]
}