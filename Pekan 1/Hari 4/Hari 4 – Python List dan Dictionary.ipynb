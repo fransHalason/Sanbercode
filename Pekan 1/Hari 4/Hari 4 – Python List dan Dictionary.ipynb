{
 "metadata": {
  "language_info": {
   "codemirror_mode": {
    "name": "ipython",
    "version": 3
   },
   "file_extension": ".py",
   "mimetype": "text/x-python",
   "name": "python",
   "nbconvert_exporter": "python",
   "pygments_lexer": "ipython3",
   "version": "3.9.5"
  },
  "orig_nbformat": 4,
  "kernelspec": {
   "name": "python3",
   "display_name": "Python 3.9.5 64-bit"
  },
  "interpreter": {
   "hash": "b839018028d7c5166b93bdc4222a30f5462b9cb20ffe1b3af6c70f0ea8ead087"
  }
 },
 "nbformat": 4,
 "nbformat_minor": 2,
 "cells": [
  {
   "source": [
    "# Hari 4 – Python List dan Dictionary"
   ],
   "cell_type": "markdown",
   "metadata": {}
  },
  {
   "source": [
    "## List"
   ],
   "cell_type": "markdown",
   "metadata": {}
  },
  {
   "cell_type": "code",
   "execution_count": 1,
   "metadata": {},
   "outputs": [],
   "source": [
    "# inisialisasi suhu anggota keluarga\n",
    "suhu1 = 21\n",
    "suhu2 = 20\n",
    "suhu3 = 22"
   ]
  },
  {
   "cell_type": "code",
   "execution_count": 2,
   "metadata": {},
   "outputs": [],
   "source": [
    "# simpan dalam list\n",
    "suhu_keluarga = [suhu1, suhu2, suhu3]"
   ]
  },
  {
   "cell_type": "code",
   "execution_count": 3,
   "metadata": {},
   "outputs": [],
   "source": [
    "# membuat list\n",
    "suhu_keluarga_ucup = [\n",
    "                    'ayah ucup', 19, \n",
    "                    'ucup', 19, \n",
    "                    'ibu ucup', 20\n",
    "                ]\n",
    "suhu_keluarga_boy = [\n",
    "                    'istri boy', 20, \n",
    "                    'anak boy', 18, \n",
    "                    'istri kedua boy', 21\n",
    "                ]\n",
    "\n",
    "# membuat list dalam list dan di campur dengan data boolean\n",
    "suhu_keluarga = [\n",
    "                    suhu_keluarga_ucup, \n",
    "                    suhu_keluarga_boy, \n",
    "                    True\n",
    "                ]"
   ]
  },
  {
   "source": [
    "### Akses Data List"
   ],
   "cell_type": "markdown",
   "metadata": {}
  },
  {
   "cell_type": "code",
   "execution_count": 4,
   "metadata": {},
   "outputs": [],
   "source": [
    "# Membuat data list\n",
    "tinggi_badan = [\n",
    "                    162, # index 0 \n",
    "                    177, # index 1\n",
    "                    182, # index 2\n",
    "                    150, # index 3\n",
    "                    166 # index 4\n",
    "                ]"
   ]
  },
  {
   "cell_type": "code",
   "execution_count": 5,
   "metadata": {},
   "outputs": [
    {
     "output_type": "stream",
     "name": "stdout",
     "text": [
      "162\n"
     ]
    }
   ],
   "source": [
    "# Subsetting list\n",
    "print(tinggi_badan[0]) # posisi pertama"
   ]
  },
  {
   "cell_type": "code",
   "execution_count": 6,
   "metadata": {},
   "outputs": [
    {
     "output_type": "stream",
     "name": "stdout",
     "text": [
      "150\n"
     ]
    }
   ],
   "source": [
    "print(tinggi_badan[-2]) # posis kedua dari belakang"
   ]
  },
  {
   "cell_type": "code",
   "execution_count": 7,
   "metadata": {},
   "outputs": [
    {
     "output_type": "stream",
     "name": "stdout",
     "text": [
      "[162, 177, 182, 150]\n"
     ]
    }
   ],
   "source": [
    "# Slicing list\n",
    "# Mengambil data dengan index 0, 1, 2, 3\n",
    "print(tinggi_badan[:4]) "
   ]
  },
  {
   "cell_type": "code",
   "execution_count": 8,
   "metadata": {},
   "outputs": [
    {
     "output_type": "stream",
     "name": "stdout",
     "text": [
      "[182, 150, 166]\n"
     ]
    }
   ],
   "source": [
    "# Mengambil data dengan index 2, 3, 4\n",
    "print(tinggi_badan[2:5])"
   ]
  },
  {
   "source": [
    "### Manipulasi List "
   ],
   "cell_type": "markdown",
   "metadata": {}
  },
  {
   "cell_type": "code",
   "execution_count": 9,
   "metadata": {},
   "outputs": [],
   "source": [
    "# Misalnya, katakanlah kita ingin mengubah suhu ucup:\n",
    "\n",
    "# mengubah suhu ucup\n",
    "suhu_keluarga_ucup[3] = 22"
   ]
  },
  {
   "cell_type": "code",
   "execution_count": 10,
   "metadata": {},
   "outputs": [
    {
     "output_type": "stream",
     "name": "stdout",
     "text": [
      "['ayah ucup', 19, 'ucup', 22, 'ibu ucup', 20]\n"
     ]
    }
   ],
   "source": [
    "print(suhu_keluarga_ucup)"
   ]
  },
  {
   "cell_type": "code",
   "execution_count": 11,
   "metadata": {},
   "outputs": [
    {
     "output_type": "stream",
     "name": "stdout",
     "text": [
      "['ayah ucup', 19, 'ucup', 22, 'mamah ucup', 22]\n"
     ]
    }
   ],
   "source": [
    "suhu_keluarga_ucup[-2:] = ['mamah ucup', 22]\n",
    "print(suhu_keluarga_ucup)"
   ]
  },
  {
   "cell_type": "code",
   "execution_count": 12,
   "metadata": {},
   "outputs": [
    {
     "output_type": "stream",
     "name": "stdout",
     "text": [
      "['ayah ucup', 19, 'ucup', 22, 'mamah ucup', 22, 'adik ucup', 20]\n"
     ]
    }
   ],
   "source": [
    "suhu_keluarga_ucup = suhu_keluarga_ucup + ['adik ucup', 20]\n",
    "print(suhu_keluarga_ucup)"
   ]
  },
  {
   "cell_type": "code",
   "execution_count": 19,
   "metadata": {},
   "outputs": [
    {
     "output_type": "stream",
     "name": "stdout",
     "text": [
      "['Ayu', 'Bagus', 'Fajar', 'Cahyo', 'Ani', 'Rizky']\n"
     ]
    }
   ],
   "source": [
    "murid = ['Ayu', 'Bagus', 'Fajar', 'Cahyo', 'Ani']\n",
    "murid.append('Rizky')\n",
    "print(murid)"
   ]
  },
  {
   "cell_type": "code",
   "execution_count": 21,
   "metadata": {},
   "outputs": [
    {
     "output_type": "stream",
     "name": "stdout",
     "text": [
      "['Ayu', 'Bagus', 'Ahmad', 'Ahmad', 'Fajar', 'Cahyo', 'Ani', 'Rizky']\n"
     ]
    }
   ],
   "source": [
    "murid.insert(2, 'Ahmad')\n",
    "print(murid)"
   ]
  },
  {
   "cell_type": "code",
   "execution_count": 23,
   "metadata": {},
   "outputs": [
    {
     "output_type": "stream",
     "name": "stdout",
     "text": [
      "ucup\n"
     ]
    }
   ],
   "source": [
    "del(suhu_keluarga_ucup[0])\n",
    "print(suhu_keluarga_ucup[0])"
   ]
  },
  {
   "cell_type": "code",
   "execution_count": 26,
   "metadata": {},
   "outputs": [
    {
     "output_type": "stream",
     "name": "stdout",
     "text": [
      "['Ayu', 'Bagus', 'Cahyo', 'Ani']\n['Ayu', 'Bagus', 'Cahyo']\n"
     ]
    }
   ],
   "source": [
    "murid = ['Ayu', 'Bagus', 'Fajar', 'Cahyo', 'Ani']\n",
    "murid.pop(2)\n",
    "print(murid)\n",
    "murid.pop()\n",
    "print(murid)"
   ]
  },
  {
   "cell_type": "code",
   "execution_count": 27,
   "metadata": {},
   "outputs": [
    {
     "output_type": "stream",
     "name": "stdout",
     "text": [
      "['Ayu', 'Bagus', 'Fajar', 'Ani']\n"
     ]
    }
   ],
   "source": [
    "murid = ['Ayu', 'Bagus', 'Fajar', 'Cahyo', 'Ani']\n",
    "murid.remove('Cahyo')\n",
    "print(murid)"
   ]
  },
  {
   "source": [
    "### Some Function in List"
   ],
   "cell_type": "markdown",
   "metadata": {}
  },
  {
   "cell_type": "code",
   "execution_count": 28,
   "metadata": {},
   "outputs": [
    {
     "output_type": "stream",
     "name": "stdout",
     "text": [
      "5\n"
     ]
    }
   ],
   "source": [
    "keluarga_ucup = ['mamah', 'papah', 'ucup', 'adek ucup', 'kaka ucup']\n",
    "\n",
    "# berapa banyak anggota keluarga ucup\n",
    "print(len(keluarga_ucup))"
   ]
  },
  {
   "cell_type": "code",
   "execution_count": 29,
   "metadata": {},
   "outputs": [
    {
     "output_type": "stream",
     "name": "stdout",
     "text": [
      "['adek ucup', 'kaka ucup', 'mamah', 'papah', 'ucup']\n"
     ]
    }
   ],
   "source": [
    "print(sorted(keluarga_ucup))"
   ]
  },
  {
   "cell_type": "code",
   "execution_count": 30,
   "metadata": {},
   "outputs": [
    {
     "output_type": "stream",
     "name": "stdout",
     "text": [
      "17\n"
     ]
    }
   ],
   "source": [
    "primes = [2, 3, 5, 7]\n",
    "print(sum(primes))"
   ]
  },
  {
   "cell_type": "code",
   "execution_count": 31,
   "metadata": {},
   "outputs": [
    {
     "output_type": "stream",
     "name": "stdout",
     "text": [
      "[1, 2, 3, 4, 5]\n[1, 2, 3, 4, 5]\n"
     ]
    }
   ],
   "source": [
    "a = [1,2,3,4,5]\n",
    "b = a.copy()\n",
    "print(a)\n",
    "print(b)"
   ]
  },
  {
   "cell_type": "code",
   "execution_count": 32,
   "metadata": {},
   "outputs": [
    {
     "output_type": "stream",
     "name": "stdout",
     "text": [
      "[1, 2, 3, 4, 5]\n[1, 2, 3, 4, 5, 6]\n"
     ]
    }
   ],
   "source": [
    "#lakukan manipulasi terhadap list b\n",
    "b.append(6)\n",
    "print(a)\n",
    "print(b)"
   ]
  },
  {
   "source": [
    "### List Comperehension"
   ],
   "cell_type": "markdown",
   "metadata": {}
  },
  {
   "cell_type": "code",
   "execution_count": null,
   "metadata": {},
   "outputs": [],
   "source": [
    "number = [1,5,10,6,7,8,12]\n",
    "result = [i for i in number if i>7]"
   ]
  },
  {
   "source": [
    "## Dictionary"
   ],
   "cell_type": "markdown",
   "metadata": {}
  },
  {
   "cell_type": "code",
   "execution_count": 33,
   "metadata": {},
   "outputs": [],
   "source": [
    "numbers = {'one':1, 'two':2, 'three':3}"
   ]
  },
  {
   "cell_type": "code",
   "execution_count": 34,
   "metadata": {},
   "outputs": [
    {
     "output_type": "stream",
     "name": "stdout",
     "text": [
      "1\n"
     ]
    }
   ],
   "source": [
    "print(numbers['one'])"
   ]
  },
  {
   "cell_type": "code",
   "execution_count": 35,
   "metadata": {},
   "outputs": [],
   "source": [
    "numbers['one'] = 'satu'"
   ]
  },
  {
   "cell_type": "code",
   "execution_count": 36,
   "metadata": {},
   "outputs": [
    {
     "output_type": "stream",
     "name": "stdout",
     "text": [
      "{'one': 'satu', 'two': 2, 'three': 3}\n"
     ]
    }
   ],
   "source": [
    "print(numbers)"
   ]
  },
  {
   "cell_type": "code",
   "execution_count": 37,
   "metadata": {},
   "outputs": [
    {
     "output_type": "stream",
     "name": "stdout",
     "text": [
      "one = satu\ntwo = 2\nthree = 3\n"
     ]
    }
   ],
   "source": [
    "for k in numbers:\n",
    "    print(\"{} = {}\".format(k, numbers[k]))"
   ]
  },
  {
   "cell_type": "code",
   "execution_count": 38,
   "metadata": {},
   "outputs": [
    {
     "output_type": "stream",
     "name": "stdout",
     "text": [
      "satu\n2\n3\n"
     ]
    }
   ],
   "source": [
    "for k in numbers.values():\n",
    "    print(\"{}\".format(k))"
   ]
  },
  {
   "cell_type": "code",
   "execution_count": 39,
   "metadata": {},
   "outputs": [
    {
     "output_type": "stream",
     "name": "stdout",
     "text": [
      "one = satu\ntwo = 2\nthree = 3\n"
     ]
    }
   ],
   "source": [
    "for k, v in numbers.items():\n",
    "    print(\"{} = {}\".format(k, v))"
   ]
  },
  {
   "cell_type": "code",
   "execution_count": 40,
   "metadata": {},
   "outputs": [
    {
     "output_type": "execute_result",
     "data": {
      "text/plain": [
       "True"
      ]
     },
     "metadata": {},
     "execution_count": 40
    }
   ],
   "source": [
    "'one' in numbers"
   ]
  },
  {
   "cell_type": "code",
   "execution_count": 51,
   "metadata": {},
   "outputs": [
    {
     "output_type": "stream",
     "name": "stdout",
     "text": [
      "{'one': 1, 'two': 2, 'three': 3, 'four': 10}\n"
     ]
    }
   ],
   "source": [
    "numbers = {'one':1, 'two':2, 'three':3}\n",
    "numbers['four'] = 10\n",
    "print(numbers)"
   ]
  },
  {
   "cell_type": "code",
   "execution_count": 52,
   "metadata": {},
   "outputs": [
    {
     "output_type": "stream",
     "name": "stdout",
     "text": [
      "{'two': 5}\n"
     ]
    }
   ],
   "source": [
    "numbers1 = {'two':5}\n",
    "numbers.update(numbers1)\n",
    "print(numbers1)"
   ]
  },
  {
   "cell_type": "code",
   "execution_count": 44,
   "metadata": {},
   "outputs": [
    {
     "output_type": "stream",
     "name": "stdout",
     "text": [
      "{'four': 10, 'three': 3, 'two': 5}\n"
     ]
    }
   ],
   "source": [
    "numbers = {'four': 10, 'one': 1, 'three': 3, 'two': 5}\n",
    "numbers.pop('one')\n",
    "print(numbers)"
   ]
  },
  {
   "cell_type": "code",
   "execution_count": 45,
   "metadata": {},
   "outputs": [
    {
     "output_type": "stream",
     "name": "stdout",
     "text": [
      "{}\n"
     ]
    }
   ],
   "source": [
    "numbers.clear()\n",
    "print(numbers)"
   ]
  },
  {
   "cell_type": "code",
   "execution_count": 46,
   "metadata": {},
   "outputs": [
    {
     "output_type": "stream",
     "name": "stdout",
     "text": [
      "{'three': 3, 'two': 5}\n"
     ]
    }
   ],
   "source": [
    "numbers = {'four': 10, 'three': 3, 'two': 5}\n",
    "del numbers['four']\n",
    "print(numbers)"
   ]
  },
  {
   "cell_type": "code",
   "execution_count": 47,
   "metadata": {},
   "outputs": [
    {
     "output_type": "error",
     "ename": "NameError",
     "evalue": "name 'numbers' is not defined",
     "traceback": [
      "\u001b[1;31m---------------------------------------------------------------------------\u001b[0m",
      "\u001b[1;31mNameError\u001b[0m                                 Traceback (most recent call last)",
      "\u001b[1;32m<ipython-input-47-b55e5d32b978>\u001b[0m in \u001b[0;36m<module>\u001b[1;34m\u001b[0m\n\u001b[0;32m      1\u001b[0m \u001b[1;32mdel\u001b[0m \u001b[0mnumbers\u001b[0m\u001b[1;33m\u001b[0m\u001b[1;33m\u001b[0m\u001b[0m\n\u001b[1;32m----> 2\u001b[1;33m \u001b[0mprint\u001b[0m\u001b[1;33m(\u001b[0m\u001b[0mnumbers\u001b[0m\u001b[1;33m)\u001b[0m\u001b[1;33m\u001b[0m\u001b[1;33m\u001b[0m\u001b[0m\n\u001b[0m",
      "\u001b[1;31mNameError\u001b[0m: name 'numbers' is not defined"
     ]
    }
   ],
   "source": [
    "del numbers\n",
    "print(numbers)"
   ]
  },
  {
   "cell_type": "code",
   "execution_count": null,
   "metadata": {},
   "outputs": [],
   "source": []
  }
 ]
}